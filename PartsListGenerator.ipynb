{
 "cells": [
  {
   "cell_type": "markdown",
   "metadata": {},
   "source": [
    "# Parts & Hardware List Generator\n",
    "\n",
    "## _Counts and orders parts & hardware needed for a install/remove job_\n",
    "\n",
    "Use this script for situations where you have a job where multiple stack-ups of hardware are required, and you would like an ordered Bill of Material (BOM), or Parts List, to know how many parts to order total.\n",
    "\n",
    "E.g.: A complex example for a yatch gearbox.  See Parts List on the right.\n",
    "\n",
    "![alt-text](image/Seawolf.jpg)\n",
    "\n"
   ]
  },
  {
   "cell_type": "markdown",
   "metadata": {},
   "source": [
    "## Import libraries"
   ]
  },
  {
   "cell_type": "code",
   "execution_count": 45,
   "metadata": {},
   "outputs": [],
   "source": [
    "import matplotlib as plt\n",
    "%matplotlib inline\n",
    "\n",
    "import pandas as pd"
   ]
  },
  {
   "cell_type": "markdown",
   "metadata": {},
   "source": [
    "## Import parts and hardware stack-ups\n",
    "Note: Kept a separate file for readability"
   ]
  },
  {
   "cell_type": "code",
   "execution_count": 74,
   "metadata": {
    "scrolled": true
   },
   "outputs": [
    {
     "name": "stdout",
     "output_type": "stream",
     "text": [
      "Parts & Hardware Stack-Up Dictionaries running...\n",
      "\n",
      "\n",
      "Stack-ups successfully loaded\n",
      "\n"
     ]
    }
   ],
   "source": [
    "#see this file for list of stack-ups\n",
    "%run PartsandHardwareStackUps.ipynb"
   ]
  },
  {
   "cell_type": "markdown",
   "metadata": {},
   "source": [
    "###### Individual stack-up check"
   ]
  },
  {
   "cell_type": "code",
   "execution_count": 75,
   "metadata": {},
   "outputs": [
    {
     "name": "stdout",
     "output_type": "stream",
     "text": [
      "\n",
      "Parts List Hardware Generator \n",
      "\n",
      "individual stack-up import check: \n",
      "\n",
      "bolt-A, 2\n",
      "bushing-B, 4\n",
      "washer-C, 4\n",
      "nut-B, 1\n",
      "\n",
      "\n"
     ]
    }
   ],
   "source": [
    "# Parts List Hardware Generator\n",
    "print(\"\\nParts List Hardware Generator \\n\")\n",
    "\n",
    "print(\"individual stack-up import check: \\n\")\n",
    "for key,value in hardwareStackUpMixed1.items():\n",
    "    print(key + \", \" + str(value))\n",
    "print(\"\\n\")\n",
    "\n",
    "# establish master parts list\n",
    "partsList = {}"
   ]
  },
  {
   "cell_type": "markdown",
   "metadata": {},
   "source": [
    "## Function"
   ]
  },
  {
   "cell_type": "code",
   "execution_count": 76,
   "metadata": {},
   "outputs": [
    {
     "name": "stdout",
     "output_type": "stream",
     "text": [
      "compute the total hardware per stack-up occurance: \n",
      "\n"
     ]
    }
   ],
   "source": [
    "# multiply the stackups by how many are in the install, and resave\n",
    "print(\"compute the total hardware per stack-up occurance: \\n\")\n",
    "\n",
    "def multiplyDict(hardwareStackUpDict,howManyHardwareStackUps):\n",
    "    for hardware in hardwareStackUpDict:\n",
    "        hardwareStackUpDict[hardware] = hardwareStackUpDict[hardware] * howManyHardwareStackUps"
   ]
  },
  {
   "cell_type": "markdown",
   "metadata": {},
   "source": [
    "### Stack-up occurances?"
   ]
  },
  {
   "cell_type": "code",
   "execution_count": 77,
   "metadata": {},
   "outputs": [],
   "source": [
    "#multiplyDict(stackUpName, quantity)     <---example\n",
    "multiplyDict(parts,3)                 \n",
    "multiplyDict(hardwareStackUpA,6) \n",
    "multiplyDict(hardwareStackUpB,4)                    \n",
    "multiplyDict(hardwareStackUpC,19)    \n",
    "multiplyDict(hardwareStackUpMixed1,10)       \n",
    "multiplyDict(hardwareStackUpMixed2,4)  "
   ]
  },
  {
   "cell_type": "markdown",
   "metadata": {},
   "source": [
    "###### Individual stack-up check"
   ]
  },
  {
   "cell_type": "code",
   "execution_count": 78,
   "metadata": {},
   "outputs": [
    {
     "name": "stdout",
     "output_type": "stream",
     "text": [
      "individual stack-up multiple occurance check: \n",
      "\n",
      "bolt-A, 20\n",
      "bushing-B, 40\n",
      "washer-C, 40\n",
      "nut-B, 10\n",
      "\n",
      "\n"
     ]
    }
   ],
   "source": [
    "print(\"individual stack-up multiple occurance check: \\n\")\n",
    "for key,value in hardwareStackUpMixed1.items():\n",
    "    print(key + \", \" + str(value))\n",
    "print(\"\\n\")"
   ]
  },
  {
   "cell_type": "markdown",
   "metadata": {},
   "source": [
    "## Generate full Parts List"
   ]
  },
  {
   "cell_type": "code",
   "execution_count": 79,
   "metadata": {},
   "outputs": [
    {
     "name": "stdout",
     "output_type": "stream",
     "text": [
      "compile the parts list from the stack-ups: \n",
      "\n",
      "\n",
      "pretty print the parts list: \n",
      "\n",
      "\n",
      "('bolt-A', 26)\n",
      "('bolt-B', 4)\n",
      "('bolt-C', 27)\n",
      "('bracketA', 6)\n",
      "('bracketB', 6)\n",
      "('bushing-A', 22)\n",
      "('bushing-B', 40)\n",
      "('bushing-C', 57)\n",
      "('motorA', 3)\n",
      "('motorB', 3)\n",
      "('newNamePlate', 3)\n",
      "('nut-A', 6)\n",
      "('nut-B', 18)\n",
      "('nut-C', 19)\n",
      "('washer-A', 58)\n",
      "('washer-B', 4)\n",
      "('washer-C', 78)\n"
     ]
    }
   ],
   "source": [
    "# compile new dictionary parts list\n",
    "print(\"compile the parts list from the stack-ups: \")\n",
    "for stackUp in stackUps:\n",
    "    for key,value in stackUp.items():\n",
    "        if key in partsList:\n",
    "            # if true, add to the current existing key\n",
    "            partsList[key] += value\n",
    "            ##print(str(value) + \" added to the existing key: \" + key)\n",
    "        else:\n",
    "            # if not true, create new key and initialize value\n",
    "            partsList[key] = value\n",
    "            ##print(str(value) + \" added to the new key: \" + key)\n",
    "    #print(partsList)\n",
    "print(\"\\n\")\n",
    "\n",
    "\n",
    "# pretty print the parts list\n",
    "def prettyPrintPartsList(masterPartsList):\n",
    "    print(\"pretty print the parts list: \")\n",
    "    #print(masterPartsList)\n",
    "\n",
    "##    print('\\n')\n",
    "##    for key, value in masterPartsList.items():\n",
    "##        print(key + \",\" + str(value))\n",
    "\n",
    "    print('\\n')\n",
    "    sortedPartsList = sorted(partsList.items())\n",
    "    for x in sortedPartsList:\n",
    "       print(x)\n",
    "\n",
    "    \n",
    "prettyPrintPartsList(partsList)"
   ]
  },
  {
   "cell_type": "markdown",
   "metadata": {},
   "source": [
    "## Export to Excel File "
   ]
  },
  {
   "cell_type": "code",
   "execution_count": 80,
   "metadata": {},
   "outputs": [
    {
     "name": "stdout",
     "output_type": "stream",
     "text": [
      "<class 'dict'>\n"
     ]
    }
   ],
   "source": [
    "print(type(partsList))"
   ]
  },
  {
   "cell_type": "code",
   "execution_count": 81,
   "metadata": {},
   "outputs": [
    {
     "name": "stdout",
     "output_type": "stream",
     "text": [
      "{'motorA': 3, 'motorB': 3, 'bracketA': 6, 'bracketB': 6, 'newNamePlate': 3, 'bolt-A': 26, 'washer-A': 58, 'bushing-A': 22, 'nut-A': 6, 'bolt-B': 4, 'washer-B': 4, 'nut-B': 18, 'bolt-C': 27, 'washer-C': 78, 'bushing-C': 57, 'nut-C': 19, 'bushing-B': 40}\n"
     ]
    }
   ],
   "source": [
    "print(partsList)"
   ]
  },
  {
   "cell_type": "code",
   "execution_count": 82,
   "metadata": {},
   "outputs": [
    {
     "data": {
      "text/plain": [
       "bolt-A          26\n",
       "bolt-B           4\n",
       "bolt-C          27\n",
       "bracketA         6\n",
       "bracketB         6\n",
       "bushing-A       22\n",
       "bushing-B       40\n",
       "bushing-C       57\n",
       "motorA           3\n",
       "motorB           3\n",
       "newNamePlate     3\n",
       "nut-A            6\n",
       "nut-B           18\n",
       "nut-C           19\n",
       "washer-A        58\n",
       "washer-B         4\n",
       "washer-C        78\n",
       "dtype: int64"
      ]
     },
     "execution_count": 82,
     "metadata": {},
     "output_type": "execute_result"
    }
   ],
   "source": [
    "partsList = pd.Series(partsList)\n",
    "partsList"
   ]
  },
  {
   "cell_type": "code",
   "execution_count": 83,
   "metadata": {
    "collapsed": true
   },
   "outputs": [],
   "source": [
    "writer = pd.ExcelWriter('Parts List.xlsx')\n",
    "partsList.to_excel(writer, 'Sheet1')\n",
    "writer.save()"
   ]
  },
  {
   "cell_type": "markdown",
   "metadata": {},
   "source": [
    "## Visualization"
   ]
  },
  {
   "cell_type": "code",
   "execution_count": 84,
   "metadata": {},
   "outputs": [
    {
     "data": {
      "image/png": "[encoded data removed]",
      "text/plain": [
       "<matplotlib.figure.Figure at 0x11d6b6048>"
      ]
     },
     "metadata": {},
     "output_type": "display_data"
    }
   ],
   "source": [
    "partsList.rename(index='part',columns={'gty'})\n",
    "partsListFig = partsList.plot.barh()"
   ]
  },
  {
   "cell_type": "code",
   "execution_count": 85,
   "metadata": {},
   "outputs": [
    {
     "data": {
      "text/plain": [
       "washer-C        78\n",
       "washer-A        58\n",
       "bushing-C       57\n",
       "bushing-B       40\n",
       "bolt-C          27\n",
       "bolt-A          26\n",
       "bushing-A       22\n",
       "nut-C           19\n",
       "nut-B           18\n",
       "nut-A            6\n",
       "bracketB         6\n",
       "bracketA         6\n",
       "washer-B         4\n",
       "bolt-B           4\n",
       "newNamePlate     3\n",
       "motorB           3\n",
       "motorA           3\n",
       "dtype: int64"
      ]
     },
     "execution_count": 85,
     "metadata": {},
     "output_type": "execute_result"
    }
   ],
   "source": [
    "partsList.sort_values(ascending=False)"
   ]
  },
  {
   "cell_type": "code",
   "execution_count": 86,
   "metadata": {},
   "outputs": [
    {
     "data": {
      "text/plain": [
       "<matplotlib.axes._subplots.AxesSubplot at 0x11d71cf98>"
      ]
     },
     "execution_count": 86,
     "metadata": {},
     "output_type": "execute_result"
    },
    {
     "data": {
      "image/png": "[encoded data removed]",
      "text/plain": [
       "<matplotlib.figure.Figure at 0x11d8d2978>"
      ]
     },
     "metadata": {},
     "output_type": "display_data"
    }
   ],
   "source": [
    "partsList.sort_values().plot.barh()"
   ]
  }
 ],
 "metadata": {
  "kernelspec": {
   "display_name": "Python 3",
   "language": "python",
   "name": "python3"
  },
  "language_info": {
   "codemirror_mode": {
    "name": "ipython",
    "version": 3
   },
   "file_extension": ".py",
   "mimetype": "text/x-python",
   "name": "python",
   "nbconvert_exporter": "python",
   "pygments_lexer": "ipython3",
   "version": "3.6.3"
  }
 },
 "nbformat": 4,
 "nbformat_minor": 2
}
