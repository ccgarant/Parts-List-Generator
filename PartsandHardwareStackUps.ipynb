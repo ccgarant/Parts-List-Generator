{
 "cells": [
  {
   "cell_type": "markdown",
   "metadata": {},
   "source": [
    "# Parts & Hardware Stack-Up Dictionaries"
   ]
  },
  {
   "cell_type": "code",
   "execution_count": null,
   "metadata": {},
   "outputs": [],
   "source": [
    "\"\"\" Parts & Hardware Stack-Up Dictionaries \"\"\"\n",
    "\n",
    "print(\"Parts & Hardware Stack-Up Dictionaries running...\\n\")\n",
    "\n",
    "#List parts and hardware below as dictionaries\n",
    "\n",
    "#this is all made up purely for demonstration...\n",
    "\n",
    "parts = {\n",
    "    'motorA':1,\n",
    "    'motorB':1,\n",
    "    'bracketA':2,\n",
    "    'bracketB':2,\n",
    "    'newNamePlate':1\n",
    "}\n",
    "\n",
    "hardwareStackUpA = {\n",
    "    'bolt-A':1,\n",
    "    'washer-A':7,\n",
    "    'bushing-A':1,\n",
    "    'bushing-A':1,\n",
    "    'nut-A': 1,\n",
    "}\n",
    "\n",
    "hardwareStackUpB = {\n",
    "    'bolt-B':1,\n",
    "    'washer-B':1,\n",
    "    'nut-B':1,\n",
    "}\n",
    "\n",
    "hardwareStackUpC = {\n",
    "    'bolt-C':1,\n",
    "    'washer-C':2,\n",
    "    'bushing-C':3,\n",
    "    'nut-C':1,\n",
    "}\n",
    "\n",
    "hardwareStackUpMixed1 = {\n",
    "    'bolt-A':2,\n",
    "    'bushing-B':4,\n",
    "    'washer-C':4,\n",
    "    'nut-B':1\n",
    "}\n",
    "\n",
    "hardwareStackUpMixed2 = {\n",
    "    'bolt-C':2,\n",
    "    'bushing-A':4,\n",
    "    'washer-A':4,\n",
    "    'nut-B':1\n",
    "}\n",
    "\n",
    "#Create list of dictionaries for looping\n",
    "\n",
    "stackUps = [\n",
    "    parts,\n",
    "    hardwareStackUpA,\n",
    "    hardwareStackUpB,\n",
    "    hardwareStackUpC,\n",
    "    hardwareStackUpMixed1,\n",
    "    hardwareStackUpMixed2\n",
    "]\n",
    "\n",
    "print(\"\\nStack-ups successfully loaded\\n\")\n"
   ]
  }
 ],
 "metadata": {
  "kernelspec": {
   "display_name": "Python 3",
   "language": "python",
   "name": "python3"
  },
  "language_info": {
   "codemirror_mode": {
    "name": "ipython",
    "version": 3
   },
   "file_extension": ".py",
   "mimetype": "text/x-python",
   "name": "python",
   "nbconvert_exporter": "python",
   "pygments_lexer": "ipython3",
   "version": "3.6.3"
  }
 },
 "nbformat": 4,
 "nbformat_minor": 2
}
